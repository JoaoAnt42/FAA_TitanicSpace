{
 "cells": [
  {
   "cell_type": "markdown",
   "metadata": {},
   "source": [
    "## Organizações não governamentais de ambiente por 100 000 habitantes (N.º) por Localização geográfica (NUTS - 2013); Anual\n",
    "https://www.ine.pt/xportal/xmain?xpid=INE&xpgid=ine_indicadores&indOcorrCod=0008290&contexto=bd&selTab=tab2\n",
    "\n",
    "### Base de dados: Nuts 2013"
   ]
  },
  {
   "cell_type": "markdown",
   "metadata": {},
   "source": [
    "### Sinais convencionais\n",
    "Sinais convencionais por ausência de valor\n",
    "- `…`\tDado confidencial\n",
    "- `-`\tDado nulo ou não aplicável\n",
    "- `x`\tDado não disponível\n",
    "- `o`\tDado inferior a metade do módulo da unidade utilizada\n",
    "- `∞`\tInfinito\n",
    "\n",
    "Sinais convencionais adicionais ao valor\n",
    "- `//` Dado preliminar\n",
    "- `&`\tDado provisório\n",
    "- `»`\tDado previsto\n",
    "- `*`\tDado rectificado\n",
    "- `§`\tDesvio do padrão de qualidade/Coeficiente de variação elevado\n",
    "- `“`\tEstimativa\n",
    "- `“E` Dado estimado pelo Eurostat\n",
    "- `┴`\tQuebra de série/comparabilidade\n",
    "- `i`\tMais informação em anexo\n",
    "\n",
    "## Sinais convencionais diversos\n",
    "- `µ`\tMédia\n",
    "- `=`\tIgual\n",
    "- `>`\tMaior que\n",
    "- `≥`\tMaior ou igual\n",
    "- `<`\tMenor que\n",
    "- `≤`\tMenor ou igual\n",
    "- `%`\tPercentagem\n",
    "- `‰`\tPermilagem\n",
    "- `∑`\tSoma de\n",
    "- `≠`\tDiferente"
   ]
  },
  {
   "cell_type": "code",
   "execution_count": 3,
   "metadata": {},
   "outputs": [
    {
     "name": "stdout",
     "output_type": "stream",
     "text": [
      "Requirement already satisfied: pandas in /usr/local/lib/python3.10/site-packages (1.5.1)\n",
      "Requirement already satisfied: numpy in /usr/local/lib/python3.10/site-packages (1.23.4)\n",
      "Requirement already satisfied: pytz>=2020.1 in /usr/local/lib/python3.10/site-packages (from pandas) (2022.6)\n",
      "Requirement already satisfied: python-dateutil>=2.8.1 in /Users/joaoantonio/Library/Python/3.10/lib/python/site-packages (from pandas) (2.8.2)\n",
      "Requirement already satisfied: six>=1.5 in /Users/joaoantonio/Library/Python/3.10/lib/python/site-packages (from python-dateutil>=2.8.1->pandas) (1.16.0)\n"
     ]
    }
   ],
   "source": [
    "!pip3 install pandas numpy"
   ]
  },
  {
   "cell_type": "code",
   "execution_count": 4,
   "metadata": {},
   "outputs": [
    {
     "ename": "ModuleNotFoundError",
     "evalue": "No module named 'matplotlib'",
     "output_type": "error",
     "traceback": [
      "\u001b[0;31m---------------------------------------------------------------------------\u001b[0m",
      "\u001b[0;31mModuleNotFoundError\u001b[0m                       Traceback (most recent call last)",
      "Cell \u001b[0;32mIn [4], line 3\u001b[0m\n\u001b[1;32m      1\u001b[0m \u001b[39mimport\u001b[39;00m \u001b[39mpandas\u001b[39;00m \u001b[39mas\u001b[39;00m \u001b[39mpd\u001b[39;00m\n\u001b[1;32m      2\u001b[0m \u001b[39mimport\u001b[39;00m \u001b[39mnumpy\u001b[39;00m \u001b[39mas\u001b[39;00m \u001b[39mnp\u001b[39;00m\n\u001b[0;32m----> 3\u001b[0m \u001b[39mimport\u001b[39;00m \u001b[39mmatplotlib\u001b[39;00m\u001b[39m.\u001b[39;00m\u001b[39mpyplot\u001b[39;00m \u001b[39mas\u001b[39;00m \u001b[39mplt\u001b[39;00m\n",
      "\u001b[0;31mModuleNotFoundError\u001b[0m: No module named 'matplotlib'"
     ]
    }
   ],
   "source": [
    "import pandas as pd\n",
    "import numpy as np\n",
    "import matplotlib.pyplot as plt"
   ]
  },
  {
   "cell_type": "code",
   "execution_count": null,
   "metadata": {},
   "outputs": [],
   "source": [
    "rows_to_keep = [4, 6]\n",
    "rows_to_keep += range(8, 20)\n",
    "rows_to_keep"
   ]
  },
  {
   "cell_type": "markdown",
   "metadata": {},
   "source": [
    "### Load the data, drop all the non used rows, "
   ]
  },
  {
   "cell_type": "code",
   "execution_count": null,
   "metadata": {},
   "outputs": [],
   "source": [
    "rows_to_keep = [4, 6]\n",
    "rows_to_keep += range(8, 19)\n",
    "data = pd.read_csv(\n",
    "    \"./Dossier/Labs/Data/ine_principais_culturas_agricolas.csv\",\n",
    "    delimiter=\";\",\n",
    "    encoding=\"latin-1\",\n",
    "    header=[1, 3],\n",
    "    skiprows=lambda x: x not in rows_to_keep,\n",
    ")"
   ]
  },
  {
   "cell_type": "code",
   "execution_count": null,
   "metadata": {},
   "outputs": [],
   "source": [
    "data.drop([0], inplace=True)\n",
    "data"
   ]
  },
  {
   "cell_type": "markdown",
   "metadata": {},
   "source": [
    "## Reset of the Index as Region with just the region codes"
   ]
  },
  {
   "cell_type": "code",
   "execution_count": null,
   "metadata": {},
   "outputs": [],
   "source": [
    "data[[\"Region\", \"Region_names\"]] = data[data.columns[0]].str.split(\n",
    "    \":\",\n",
    "    expand=True,\n",
    ")\n",
    "region_names = data[\"Region_names\"].to_list()\n",
    "data.set_index(\"Region\", inplace=True)\n",
    "columns_to_rem = [0, -1, -2]\n",
    "data.drop(data.columns[columns_to_rem], axis=1, inplace=True)\n",
    "data"
   ]
  },
  {
   "cell_type": "markdown",
   "metadata": {},
   "source": [
    "## Redo the headers"
   ]
  },
  {
   "cell_type": "code",
   "execution_count": null,
   "metadata": {},
   "outputs": [],
   "source": [
    "c0 = data.columns.get_level_values(0).to_series()\n",
    "c1 = list(data.columns.get_level_values(1).to_series())\n",
    "c0 = c0.mask(lambda c: c.str.startswith(\"Unnamed\")).ffill()\n",
    "c0\n",
    "\n",
    "data.columns = [c0, c1]\n",
    "data"
   ]
  },
  {
   "cell_type": "markdown",
   "metadata": {},
   "source": [
    "## Do some exploratory analisys"
   ]
  },
  {
   "cell_type": "code",
   "execution_count": null,
   "metadata": {},
   "outputs": [],
   "source": [
    "data.info()"
   ]
  },
  {
   "cell_type": "code",
   "execution_count": null,
   "metadata": {},
   "outputs": [],
   "source": [
    "data.describe()"
   ]
  },
  {
   "cell_type": "code",
   "execution_count": null,
   "metadata": {},
   "outputs": [],
   "source": [
    "c0.head()"
   ]
  },
  {
   "cell_type": "code",
   "execution_count": null,
   "metadata": {},
   "outputs": [],
   "source": [
    "# data.columns.names([\"Year\", \"Product\"])"
   ]
  },
  {
   "cell_type": "code",
   "execution_count": null,
   "metadata": {},
   "outputs": [],
   "source": [
    "# data.head()\n",
    "data.tail()"
   ]
  },
  {
   "cell_type": "markdown",
   "metadata": {},
   "source": [
    "## Start doing some replacements"
   ]
  },
  {
   "cell_type": "code",
   "execution_count": null,
   "metadata": {},
   "outputs": [],
   "source": [
    "data.replace({'x':np.nan,'x x':np.nan,'- -':0,'nan':np.nan},inplace=True)\n",
    "for column in data:\n",
    "    data[column]=data[column].map(lambda x: str(x).rstrip(' &'))\n",
    "    data[column]=data[column].map(lambda x: str(x).rstrip(' *'))"
   ]
  },
  {
   "cell_type": "code",
   "execution_count": null,
   "metadata": {},
   "outputs": [],
   "source": [
    "for column in data:\n",
    "    data[column]=pd.to_numeric(data[column],'coerce')"
   ]
  },
  {
   "cell_type": "markdown",
   "metadata": {},
   "source": [
    "## Explore some sub tables"
   ]
  },
  {
   "cell_type": "code",
   "execution_count": null,
   "metadata": {},
   "outputs": [],
   "source": [
    "trigo_data = data.xs(\"Trigo\", axis=1, level=1)\n",
    "trigo_data"
   ]
  },
  {
   "cell_type": "code",
   "execution_count": null,
   "metadata": {},
   "outputs": [],
   "source": [
    "data.unstack()  # Show the df as a multiindex series with 3 index"
   ]
  },
  {
   "cell_type": "code",
   "execution_count": null,
   "metadata": {},
   "outputs": [],
   "source": [
    "data[\"2021\"]"
   ]
  },
  {
   "cell_type": "markdown",
   "metadata": {},
   "source": [
    "## Creating a few graphs\n",
    "- https://www.w3schools.com/python/pandas/pandas_plotting.asp\n",
    "Mas que raio lisboa tem a mania que é grande ... alterar de \"Área metropolitana de Lisboa\" para \"Lisboa\" apenas ... poderei \"Alfacinhas\""
   ]
  },
  {
   "cell_type": "code",
   "execution_count": null,
   "metadata": {},
   "outputs": [],
   "source": [
    "data.columns[0]"
   ]
  },
  {
   "cell_type": "code",
   "execution_count": null,
   "metadata": {},
   "outputs": [],
   "source": [
    "region_names[4] = \"Lisboa\""
   ]
  },
  {
   "cell_type": "code",
   "execution_count": null,
   "metadata": {},
   "outputs": [],
   "source": [
    "data[data.columns[1:10]] = data[data.columns[1:10]].astype(float)\n",
    "data[data.columns[1:10]].plot(figsize=(16, 6))\n",
    "plt.title(\"Quantity of Produced agriculture products by region\")\n",
    "plt.xlabel(\"Regions\")\n",
    "plt.ylabel(\"Quantity produced in kg/ ha\")\n",
    "plt.grid()\n",
    "plt.xticks(range(len(region_names)), region_names)\n",
    "plt.show()"
   ]
  },
  {
   "cell_type": "code",
   "execution_count": null,
   "metadata": {},
   "outputs": [],
   "source": [
    "data.T"
   ]
  },
  {
   "cell_type": "code",
   "execution_count": null,
   "metadata": {},
   "outputs": [],
   "source": [
    "data_norte_trigo.keys()"
   ]
  },
  {
   "cell_type": "code",
   "execution_count": null,
   "metadata": {},
   "outputs": [],
   "source": []
  },
  {
   "cell_type": "code",
   "execution_count": null,
   "metadata": {},
   "outputs": [],
   "source": [
    "# for key in [\"Trigo mole\", \"Trigo duro\"]:\n",
    "#     plt.hist(data_norte_trigo[key], 10, label=key, alpha = 0.7)\n",
    "# plt.grid()\n",
    "# plt.title(\"Histogram of Trigo products in the north\")\n",
    "# plt.xlabel(\"Quantity produced in kg/ ha\")\n",
    "# plt.ylabel(\"Amount\")\n",
    "# plt.legend()\n",
    "# plt.xticks(rotation='vertical')\n",
    "# plt.show()"
   ]
  },
  {
   "cell_type": "markdown",
   "metadata": {},
   "source": [
    "- Shet 0 is metadata\n",
    "- Shet 1 is tmin\n",
    "- Shet 2 is tmax\n",
    "- Shet 3 is Pluviosity"
   ]
  },
  {
   "cell_type": "code",
   "execution_count": null,
   "metadata": {},
   "outputs": [],
   "source": [
    "excel_list = [11, 132, 320, 571, 554]\n",
    "code_list = [11, 16, 17, 18, 15]"
   ]
  },
  {
   "cell_type": "code",
   "execution_count": null,
   "metadata": {},
   "outputs": [],
   "source": [
    "def add_extra_col(type_data, k):\n",
    "    index_describe = 2\n",
    "    if k == 3:\n",
    "        index_describe = 7\n",
    "        k = 0\n",
    "    elif k == 4:\n",
    "        index_describe = 3\n",
    "        k = 1\n",
    "\n",
    "\n",
    "    for k2, excel_code in enumerate(excel_list):\n",
    "        code = code_list[k2]\n",
    "        meteo2 = pd.read_excel(\n",
    "            f\"./Dossier/Labs/Data/IPMA/{excel_code}-tx-tn-prec.xlsx\", sheet_name=(k + 1)\n",
    "        )\n",
    "        meteo2.dropna(axis=0, how=\"any\", inplace=True)\n",
    "        meteo2 = meteo2[meteo2.year > 1986]\n",
    "        meteo2.set_index(\"year\", inplace=True)\n",
    "        meteo2.index.names = [\"Region\"]\n",
    "        data_prec = meteo2.transpose().describe()\n",
    "        indexNamesArr = data_prec.index.values\n",
    "        indexNamesArr[index_describe] = code\n",
    "        for k_name in indexNamesArr:\n",
    "            if k_name != code:\n",
    "                data_prec.drop(index=k_name, inplace=True)\n",
    "\n",
    "        years_list = data_prec.keys()\n",
    "        years_list\n",
    "        header = [years_list, [type_data] * len(years_list)]\n",
    "        data_prec.columns = header\n",
    "        data_f = data_prec if k2 == 0 else pd.concat([data_f, data_prec])\n",
    "    return data_f"
   ]
  },
  {
   "cell_type": "code",
   "execution_count": null,
   "metadata": {},
   "outputs": [],
   "source": [
    "ipma = {\n",
    "    type_data: add_extra_col(type_data, k)\n",
    "    for k, type_data in enumerate([\"Tmin\", \"Tmax\", \"Prec\", \"TmaxA\", \"TminA\"])\n",
    "}"
   ]
  },
  {
   "cell_type": "code",
   "execution_count": null,
   "metadata": {},
   "outputs": [],
   "source": [
    "ipma"
   ]
  },
  {
   "cell_type": "code",
   "execution_count": null,
   "metadata": {},
   "outputs": [],
   "source": [
    "meteo = pd.concat([ipma[\"Tmin\"], ipma[\"Tmax\"], ipma[\"Prec\"], ipma[\"TminA\"], ipma[\"TmaxA\"]], axis=1)\n",
    "meteo = meteo.reindex(sorted(meteo.columns), axis=1)\n",
    "meteo"
   ]
  },
  {
   "cell_type": "code",
   "execution_count": null,
   "metadata": {},
   "outputs": [],
   "source": [
    "meteo"
   ]
  },
  {
   "cell_type": "code",
   "execution_count": null,
   "metadata": {},
   "outputs": [],
   "source": [
    "data"
   ]
  },
  {
   "cell_type": "code",
   "execution_count": null,
   "metadata": {},
   "outputs": [],
   "source": [
    "data = data.stack(level=0)\n",
    "data"
   ]
  },
  {
   "cell_type": "code",
   "execution_count": null,
   "metadata": {},
   "outputs": [],
   "source": [
    "meteo= meteo.stack(level=0)\n",
    "meteo"
   ]
  },
  {
   "cell_type": "code",
   "execution_count": null,
   "metadata": {},
   "outputs": [],
   "source": [
    "meteo.index.names = [\"Region\", \"Year\"]"
   ]
  },
  {
   "cell_type": "code",
   "execution_count": null,
   "metadata": {},
   "outputs": [],
   "source": [
    "meteo"
   ]
  },
  {
   "cell_type": "code",
   "execution_count": null,
   "metadata": {},
   "outputs": [],
   "source": [
    "filter_col = [col for col in data if col.startswith(\"Trigo\")]\n",
    "data_norte_trigo = {\n",
    "    \"year\": [],\n",
    "}\n",
    "for k_col, col in enumerate(filter_col):\n",
    "    if col not in data_norte_trigo:\n",
    "        data_norte_trigo[col] = []\n",
    "    for elem in data[col][\"PT\"]:\n",
    "        data_norte_trigo[col].append(elem)\n",
    "        # if k_col == 0:\n",
    "        #     data_norte_trigo[\"year\"].append(elem[0])\n",
    "    # region_year = col.index\n",
    "    # if region_year[1] not in data_norte_trigo[\"year\"]:\n",
    "    #     data_norte_trigo[\"year\"].append(region_year[1])"
   ]
  },
  {
   "cell_type": "code",
   "execution_count": null,
   "metadata": {},
   "outputs": [],
   "source": [
    "data_norte_trigo"
   ]
  },
  {
   "cell_type": "code",
   "execution_count": null,
   "metadata": {},
   "outputs": [],
   "source": [
    "filter_col = [col for col in data if col.startswith(\"Trigo\")]\n",
    "filter_col"
   ]
  },
  {
   "cell_type": "code",
   "execution_count": null,
   "metadata": {},
   "outputs": [],
   "source": [
    "data_norte_trigo"
   ]
  },
  {
   "cell_type": "code",
   "execution_count": null,
   "metadata": {},
   "outputs": [],
   "source": [
    "year_list = [tuple_list[1] for tuple_list in data.index]\n",
    "year_list"
   ]
  },
  {
   "cell_type": "code",
   "execution_count": null,
   "metadata": {},
   "outputs": [],
   "source": [
    "plt.figure(figsize=(16, 8))\n",
    "for nkey, key in enumerate(data_norte_trigo):\n",
    "    if nkey > 0:\n",
    "        plt.plot(year_list, data_norte_trigo[key], label=key, marker=\"o\")\n",
    "plt.grid()\n",
    "plt.title(\"Quantity of Trigo products by year in the north\")\n",
    "plt.xlabel(\"Years\")\n",
    "plt.ylabel(\"Quantity produced in kg/ ha\")\n",
    "plt.legend()\n",
    "plt.xticks(rotation=\"vertical\")\n",
    "plt.show()"
   ]
  },
  {
   "cell_type": "markdown",
   "metadata": {},
   "source": [
    "Dar replace the `dddd &` ou `dddd *`  1001 columns"
   ]
  }
 ],
 "metadata": {
  "kernelspec": {
   "display_name": "Python 3.10.8 64-bit",
   "language": "python",
   "name": "python3"
  },
  "language_info": {
   "codemirror_mode": {
    "name": "ipython",
    "version": 3
   },
   "file_extension": ".py",
   "mimetype": "text/x-python",
   "name": "python",
   "nbconvert_exporter": "python",
   "pygments_lexer": "ipython3",
   "version": "3.10.8"
  },
  "orig_nbformat": 4,
  "vscode": {
   "interpreter": {
    "hash": "aee8b7b246df8f9039afb4144a1f6fd8d2ca17a180786b69acc140d282b71a49"
   }
  }
 },
 "nbformat": 4,
 "nbformat_minor": 2
}
